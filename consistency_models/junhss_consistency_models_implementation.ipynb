{
  "nbformat": 4,
  "nbformat_minor": 0,
  "metadata": {
    "colab": {
      "provenance": [],
      "gpuType": "T4",
      "include_colab_link": true
    },
    "kernelspec": {
      "name": "python3",
      "display_name": "Python 3"
    },
    "language_info": {
      "name": "python"
    },
    "accelerator": "GPU",
    "widgets": {
      "application/vnd.jupyter.widget-state+json": {
        "919bf6784c6e4545bf60cf56c0d83329": {
          "model_module": "@jupyter-widgets/controls",
          "model_name": "HBoxModel",
          "model_module_version": "1.5.0",
          "state": {
            "_dom_classes": [],
            "_model_module": "@jupyter-widgets/controls",
            "_model_module_version": "1.5.0",
            "_model_name": "HBoxModel",
            "_view_count": null,
            "_view_module": "@jupyter-widgets/controls",
            "_view_module_version": "1.5.0",
            "_view_name": "HBoxView",
            "box_style": "",
            "children": [
              "IPY_MODEL_26b34a8ac9444c16b2128ffb559ed9d2",
              "IPY_MODEL_993db08796c54ca6991e49e94d877c60",
              "IPY_MODEL_6db1bef9ffa549fbab53ce5db9db87db"
            ],
            "layout": "IPY_MODEL_27914cdfc5b64a0fa345e14a069b5b85"
          }
        },
        "26b34a8ac9444c16b2128ffb559ed9d2": {
          "model_module": "@jupyter-widgets/controls",
          "model_name": "HTMLModel",
          "model_module_version": "1.5.0",
          "state": {
            "_dom_classes": [],
            "_model_module": "@jupyter-widgets/controls",
            "_model_module_version": "1.5.0",
            "_model_name": "HTMLModel",
            "_view_count": null,
            "_view_module": "@jupyter-widgets/controls",
            "_view_module_version": "1.5.0",
            "_view_name": "HTMLView",
            "description": "",
            "description_tooltip": null,
            "layout": "IPY_MODEL_06b14b605ace4ef5833a72475705ce8b",
            "placeholder": "​",
            "style": "IPY_MODEL_1cf7da41c13e4fde889801f2453cb47c",
            "value": "Epoch 3:  95%"
          }
        },
        "993db08796c54ca6991e49e94d877c60": {
          "model_module": "@jupyter-widgets/controls",
          "model_name": "FloatProgressModel",
          "model_module_version": "1.5.0",
          "state": {
            "_dom_classes": [],
            "_model_module": "@jupyter-widgets/controls",
            "_model_module_version": "1.5.0",
            "_model_name": "FloatProgressModel",
            "_view_count": null,
            "_view_module": "@jupyter-widgets/controls",
            "_view_module_version": "1.5.0",
            "_view_name": "ProgressView",
            "bar_style": "",
            "description": "",
            "description_tooltip": null,
            "layout": "IPY_MODEL_131cf1ada2a546bba4d046b50f953c83",
            "max": 860,
            "min": 0,
            "orientation": "horizontal",
            "style": "IPY_MODEL_4195d3c1109e4c0b99853e044a3ccb9e",
            "value": 820
          }
        },
        "6db1bef9ffa549fbab53ce5db9db87db": {
          "model_module": "@jupyter-widgets/controls",
          "model_name": "HTMLModel",
          "model_module_version": "1.5.0",
          "state": {
            "_dom_classes": [],
            "_model_module": "@jupyter-widgets/controls",
            "_model_module_version": "1.5.0",
            "_model_name": "HTMLModel",
            "_view_count": null,
            "_view_module": "@jupyter-widgets/controls",
            "_view_module_version": "1.5.0",
            "_view_name": "HTMLView",
            "description": "",
            "description_tooltip": null,
            "layout": "IPY_MODEL_6eee00b5fa634e0399126660ffcdc5c9",
            "placeholder": "​",
            "style": "IPY_MODEL_3ad678a87383450e9bfb2ded5187e91c",
            "value": " 820/860 [13:42&lt;00:40,  1.00s/it, v_num=ohwa]"
          }
        },
        "27914cdfc5b64a0fa345e14a069b5b85": {
          "model_module": "@jupyter-widgets/base",
          "model_name": "LayoutModel",
          "model_module_version": "1.2.0",
          "state": {
            "_model_module": "@jupyter-widgets/base",
            "_model_module_version": "1.2.0",
            "_model_name": "LayoutModel",
            "_view_count": null,
            "_view_module": "@jupyter-widgets/base",
            "_view_module_version": "1.2.0",
            "_view_name": "LayoutView",
            "align_content": null,
            "align_items": null,
            "align_self": null,
            "border": null,
            "bottom": null,
            "display": "inline-flex",
            "flex": null,
            "flex_flow": "row wrap",
            "grid_area": null,
            "grid_auto_columns": null,
            "grid_auto_flow": null,
            "grid_auto_rows": null,
            "grid_column": null,
            "grid_gap": null,
            "grid_row": null,
            "grid_template_areas": null,
            "grid_template_columns": null,
            "grid_template_rows": null,
            "height": null,
            "justify_content": null,
            "justify_items": null,
            "left": null,
            "margin": null,
            "max_height": null,
            "max_width": null,
            "min_height": null,
            "min_width": null,
            "object_fit": null,
            "object_position": null,
            "order": null,
            "overflow": null,
            "overflow_x": null,
            "overflow_y": null,
            "padding": null,
            "right": null,
            "top": null,
            "visibility": null,
            "width": "100%"
          }
        },
        "06b14b605ace4ef5833a72475705ce8b": {
          "model_module": "@jupyter-widgets/base",
          "model_name": "LayoutModel",
          "model_module_version": "1.2.0",
          "state": {
            "_model_module": "@jupyter-widgets/base",
            "_model_module_version": "1.2.0",
            "_model_name": "LayoutModel",
            "_view_count": null,
            "_view_module": "@jupyter-widgets/base",
            "_view_module_version": "1.2.0",
            "_view_name": "LayoutView",
            "align_content": null,
            "align_items": null,
            "align_self": null,
            "border": null,
            "bottom": null,
            "display": null,
            "flex": null,
            "flex_flow": null,
            "grid_area": null,
            "grid_auto_columns": null,
            "grid_auto_flow": null,
            "grid_auto_rows": null,
            "grid_column": null,
            "grid_gap": null,
            "grid_row": null,
            "grid_template_areas": null,
            "grid_template_columns": null,
            "grid_template_rows": null,
            "height": null,
            "justify_content": null,
            "justify_items": null,
            "left": null,
            "margin": null,
            "max_height": null,
            "max_width": null,
            "min_height": null,
            "min_width": null,
            "object_fit": null,
            "object_position": null,
            "order": null,
            "overflow": null,
            "overflow_x": null,
            "overflow_y": null,
            "padding": null,
            "right": null,
            "top": null,
            "visibility": null,
            "width": null
          }
        },
        "1cf7da41c13e4fde889801f2453cb47c": {
          "model_module": "@jupyter-widgets/controls",
          "model_name": "DescriptionStyleModel",
          "model_module_version": "1.5.0",
          "state": {
            "_model_module": "@jupyter-widgets/controls",
            "_model_module_version": "1.5.0",
            "_model_name": "DescriptionStyleModel",
            "_view_count": null,
            "_view_module": "@jupyter-widgets/base",
            "_view_module_version": "1.2.0",
            "_view_name": "StyleView",
            "description_width": ""
          }
        },
        "131cf1ada2a546bba4d046b50f953c83": {
          "model_module": "@jupyter-widgets/base",
          "model_name": "LayoutModel",
          "model_module_version": "1.2.0",
          "state": {
            "_model_module": "@jupyter-widgets/base",
            "_model_module_version": "1.2.0",
            "_model_name": "LayoutModel",
            "_view_count": null,
            "_view_module": "@jupyter-widgets/base",
            "_view_module_version": "1.2.0",
            "_view_name": "LayoutView",
            "align_content": null,
            "align_items": null,
            "align_self": null,
            "border": null,
            "bottom": null,
            "display": null,
            "flex": "2",
            "flex_flow": null,
            "grid_area": null,
            "grid_auto_columns": null,
            "grid_auto_flow": null,
            "grid_auto_rows": null,
            "grid_column": null,
            "grid_gap": null,
            "grid_row": null,
            "grid_template_areas": null,
            "grid_template_columns": null,
            "grid_template_rows": null,
            "height": null,
            "justify_content": null,
            "justify_items": null,
            "left": null,
            "margin": null,
            "max_height": null,
            "max_width": null,
            "min_height": null,
            "min_width": null,
            "object_fit": null,
            "object_position": null,
            "order": null,
            "overflow": null,
            "overflow_x": null,
            "overflow_y": null,
            "padding": null,
            "right": null,
            "top": null,
            "visibility": null,
            "width": null
          }
        },
        "4195d3c1109e4c0b99853e044a3ccb9e": {
          "model_module": "@jupyter-widgets/controls",
          "model_name": "ProgressStyleModel",
          "model_module_version": "1.5.0",
          "state": {
            "_model_module": "@jupyter-widgets/controls",
            "_model_module_version": "1.5.0",
            "_model_name": "ProgressStyleModel",
            "_view_count": null,
            "_view_module": "@jupyter-widgets/base",
            "_view_module_version": "1.2.0",
            "_view_name": "StyleView",
            "bar_color": null,
            "description_width": ""
          }
        },
        "6eee00b5fa634e0399126660ffcdc5c9": {
          "model_module": "@jupyter-widgets/base",
          "model_name": "LayoutModel",
          "model_module_version": "1.2.0",
          "state": {
            "_model_module": "@jupyter-widgets/base",
            "_model_module_version": "1.2.0",
            "_model_name": "LayoutModel",
            "_view_count": null,
            "_view_module": "@jupyter-widgets/base",
            "_view_module_version": "1.2.0",
            "_view_name": "LayoutView",
            "align_content": null,
            "align_items": null,
            "align_self": null,
            "border": null,
            "bottom": null,
            "display": null,
            "flex": null,
            "flex_flow": null,
            "grid_area": null,
            "grid_auto_columns": null,
            "grid_auto_flow": null,
            "grid_auto_rows": null,
            "grid_column": null,
            "grid_gap": null,
            "grid_row": null,
            "grid_template_areas": null,
            "grid_template_columns": null,
            "grid_template_rows": null,
            "height": null,
            "justify_content": null,
            "justify_items": null,
            "left": null,
            "margin": null,
            "max_height": null,
            "max_width": null,
            "min_height": null,
            "min_width": null,
            "object_fit": null,
            "object_position": null,
            "order": null,
            "overflow": null,
            "overflow_x": null,
            "overflow_y": null,
            "padding": null,
            "right": null,
            "top": null,
            "visibility": null,
            "width": null
          }
        },
        "3ad678a87383450e9bfb2ded5187e91c": {
          "model_module": "@jupyter-widgets/controls",
          "model_name": "DescriptionStyleModel",
          "model_module_version": "1.5.0",
          "state": {
            "_model_module": "@jupyter-widgets/controls",
            "_model_module_version": "1.5.0",
            "_model_name": "DescriptionStyleModel",
            "_view_count": null,
            "_view_module": "@jupyter-widgets/base",
            "_view_module_version": "1.2.0",
            "_view_name": "StyleView",
            "description_width": ""
          }
        }
      }
    }
  },
  "cells": [
    {
      "cell_type": "markdown",
      "metadata": {
        "id": "view-in-github",
        "colab_type": "text"
      },
      "source": [
        "<a href=\"https://colab.research.google.com/github/rsn870/rank_and_bias_gen/blob/main/consistency_models/junhss_consistency_models_implementation.ipynb\" target=\"_parent\"><img src=\"https://colab.research.google.com/assets/colab-badge.svg\" alt=\"Open In Colab\"/></a>"
      ]
    },
    {
      "cell_type": "markdown",
      "source": [
        "# **Consistency Models** 🌃\n",
        "*...using `consistency`*\n",
        "\n",
        "**Consistency Models** are a new family of generative models that achieve high sample quality without adversarial training. They support *fast one-step generation* by design, while still allowing for few-step sampling to trade compute for sample quality. It's amazing!"
      ],
      "metadata": {
        "id": "CGWq9y6LU692"
      }
    },
    {
      "cell_type": "markdown",
      "source": [
        "### Setup\n",
        "\n",
        "Please make sure you are using a GPU runtime to run this notebook. If the following command fails, use the `Runtime` menu above and select `Change runtime type`."
      ],
      "metadata": {
        "id": "-OsNEVyTg_Gz"
      }
    },
    {
      "cell_type": "code",
      "source": [
        "!nvidia-smi"
      ],
      "metadata": {
        "id": "LAtKPa8_hQjN",
        "colab": {
          "base_uri": "https://localhost:8080/"
        },
        "outputId": "1e9c73f1-63b1-4497-b9cf-317caf3add25"
      },
      "execution_count": null,
      "outputs": [
        {
          "output_type": "stream",
          "name": "stdout",
          "text": [
            "Sun Jun 18 03:29:37 2023       \n",
            "+-----------------------------------------------------------------------------+\n",
            "| NVIDIA-SMI 525.85.12    Driver Version: 525.85.12    CUDA Version: 12.0     |\n",
            "|-------------------------------+----------------------+----------------------+\n",
            "| GPU  Name        Persistence-M| Bus-Id        Disp.A | Volatile Uncorr. ECC |\n",
            "| Fan  Temp  Perf  Pwr:Usage/Cap|         Memory-Usage | GPU-Util  Compute M. |\n",
            "|                               |                      |               MIG M. |\n",
            "|===============================+======================+======================|\n",
            "|   0  Tesla T4            Off  | 00000000:00:04.0 Off |                    0 |\n",
            "| N/A   56C    P8    10W /  70W |      0MiB / 15360MiB |      0%      Default |\n",
            "|                               |                      |                  N/A |\n",
            "+-------------------------------+----------------------+----------------------+\n",
            "                                                                               \n",
            "+-----------------------------------------------------------------------------+\n",
            "| Processes:                                                                  |\n",
            "|  GPU   GI   CI        PID   Type   Process name                  GPU Memory |\n",
            "|        ID   ID                                                   Usage      |\n",
            "|=============================================================================|\n",
            "|  No running processes found                                                 |\n",
            "+-----------------------------------------------------------------------------+\n"
          ]
        }
      ]
    },
    {
      "cell_type": "code",
      "source": [
        "!pip install datasets wandb huggingface-hub consistency==0.3.1"
      ],
      "metadata": {
        "id": "IpmvA2RSUctd",
        "colab": {
          "base_uri": "https://localhost:8080/"
        },
        "outputId": "cedf153c-d430-4910-bb3e-cba0f7460d16"
      },
      "execution_count": null,
      "outputs": [
        {
          "output_type": "stream",
          "name": "stdout",
          "text": [
            "Looking in indexes: https://pypi.org/simple, https://us-python.pkg.dev/colab-wheels/public/simple/\n",
            "Collecting datasets\n",
            "  Downloading datasets-2.13.0-py3-none-any.whl (485 kB)\n",
            "\u001b[2K     \u001b[90m━━━━━━━━━━━━━━━━━━━━━━━━━━━━━━━━━━━━━━\u001b[0m \u001b[32m485.6/485.6 kB\u001b[0m \u001b[31m40.6 MB/s\u001b[0m eta \u001b[36m0:00:00\u001b[0m\n",
            "\u001b[?25hCollecting wandb\n",
            "  Downloading wandb-0.15.4-py3-none-any.whl (2.1 MB)\n",
            "\u001b[2K     \u001b[90m━━━━━━━━━━━━━━━━━━━━━━━━━━━━━━━━━━━━━━━━\u001b[0m \u001b[32m2.1/2.1 MB\u001b[0m \u001b[31m44.9 MB/s\u001b[0m eta \u001b[36m0:00:00\u001b[0m\n",
            "\u001b[?25hCollecting huggingface-hub\n",
            "  Downloading huggingface_hub-0.15.1-py3-none-any.whl (236 kB)\n",
            "\u001b[2K     \u001b[90m━━━━━━━━━━━━━━━━━━━━━━━━━━━━━━━━━━━━━━\u001b[0m \u001b[32m236.8/236.8 kB\u001b[0m \u001b[31m16.2 MB/s\u001b[0m eta \u001b[36m0:00:00\u001b[0m\n",
            "\u001b[?25hCollecting consistency==0.3.1\n",
            "  Downloading consistency-0.3.1-py3-none-any.whl (7.3 kB)\n",
            "Requirement already satisfied: pillow in /usr/local/lib/python3.10/dist-packages (from consistency==0.3.1) (8.4.0)\n",
            "Requirement already satisfied: torch in /usr/local/lib/python3.10/dist-packages (from consistency==0.3.1) (2.0.1+cu118)\n",
            "Requirement already satisfied: torchvision in /usr/local/lib/python3.10/dist-packages (from consistency==0.3.1) (0.15.2+cu118)\n",
            "Collecting pytorch-lightning (from consistency==0.3.1)\n",
            "  Downloading pytorch_lightning-2.0.3-py3-none-any.whl (720 kB)\n",
            "\u001b[2K     \u001b[90m━━━━━━━━━━━━━━━━━━━━━━━━━━━━━━━━━━━━━━\u001b[0m \u001b[32m720.6/720.6 kB\u001b[0m \u001b[31m56.8 MB/s\u001b[0m eta \u001b[36m0:00:00\u001b[0m\n",
            "\u001b[?25hCollecting diffusers (from consistency==0.3.1)\n",
            "  Downloading diffusers-0.17.1-py3-none-any.whl (1.1 MB)\n",
            "\u001b[2K     \u001b[90m━━━━━━━━━━━━━━━━━━━━━━━━━━━━━━━━━━━━━━━━\u001b[0m \u001b[32m1.1/1.1 MB\u001b[0m \u001b[31m56.2 MB/s\u001b[0m eta \u001b[36m0:00:00\u001b[0m\n",
            "\u001b[?25hCollecting torchmetrics (from consistency==0.3.1)\n",
            "  Downloading torchmetrics-0.11.4-py3-none-any.whl (519 kB)\n",
            "\u001b[2K     \u001b[90m━━━━━━━━━━━━━━━━━━━━━━━━━━━━━━━━━━━━━━\u001b[0m \u001b[32m519.2/519.2 kB\u001b[0m \u001b[31m37.4 MB/s\u001b[0m eta \u001b[36m0:00:00\u001b[0m\n",
            "\u001b[?25hCollecting lpips (from consistency==0.3.1)\n",
            "  Downloading lpips-0.1.4-py3-none-any.whl (53 kB)\n",
            "\u001b[2K     \u001b[90m━━━━━━━━━━━━━━━━━━━━━━━━━━━━━━━━━━━━━━━━\u001b[0m \u001b[32m53.8/53.8 kB\u001b[0m \u001b[31m7.0 MB/s\u001b[0m eta \u001b[36m0:00:00\u001b[0m\n",
            "\u001b[?25hRequirement already satisfied: numpy>=1.17 in /usr/local/lib/python3.10/dist-packages (from datasets) (1.22.4)\n",
            "Requirement already satisfied: pyarrow>=8.0.0 in /usr/local/lib/python3.10/dist-packages (from datasets) (9.0.0)\n",
            "Collecting dill<0.3.7,>=0.3.0 (from datasets)\n",
            "  Downloading dill-0.3.6-py3-none-any.whl (110 kB)\n",
            "\u001b[2K     \u001b[90m━━━━━━━━━━━━━━━━━━━━━━━━━━━━━━━━━━━━━━\u001b[0m \u001b[32m110.5/110.5 kB\u001b[0m \u001b[31m16.1 MB/s\u001b[0m eta \u001b[36m0:00:00\u001b[0m\n",
            "\u001b[?25hRequirement already satisfied: pandas in /usr/local/lib/python3.10/dist-packages (from datasets) (1.5.3)\n",
            "Requirement already satisfied: requests>=2.19.0 in /usr/local/lib/python3.10/dist-packages (from datasets) (2.27.1)\n",
            "Requirement already satisfied: tqdm>=4.62.1 in /usr/local/lib/python3.10/dist-packages (from datasets) (4.65.0)\n",
            "Collecting xxhash (from datasets)\n",
            "  Downloading xxhash-3.2.0-cp310-cp310-manylinux_2_17_x86_64.manylinux2014_x86_64.whl (212 kB)\n",
            "\u001b[2K     \u001b[90m━━━━━━━━━━━━━━━━━━━━━━━━━━━━━━━━━━━━━━\u001b[0m \u001b[32m212.5/212.5 kB\u001b[0m \u001b[31m26.8 MB/s\u001b[0m eta \u001b[36m0:00:00\u001b[0m\n",
            "\u001b[?25hCollecting multiprocess (from datasets)\n",
            "  Downloading multiprocess-0.70.14-py310-none-any.whl (134 kB)\n",
            "\u001b[2K     \u001b[90m━━━━━━━━━━━━━━━━━━━━━━━━━━━━━━━━━━━━━━\u001b[0m \u001b[32m134.3/134.3 kB\u001b[0m \u001b[31m20.6 MB/s\u001b[0m eta \u001b[36m0:00:00\u001b[0m\n",
            "\u001b[?25hRequirement already satisfied: fsspec[http]>=2021.11.1 in /usr/local/lib/python3.10/dist-packages (from datasets) (2023.4.0)\n",
            "Collecting aiohttp (from datasets)\n",
            "  Downloading aiohttp-3.8.4-cp310-cp310-manylinux_2_17_x86_64.manylinux2014_x86_64.whl (1.0 MB)\n",
            "\u001b[2K     \u001b[90m━━━━━━━━━━━━━━━━━━━━━━━━━━━━━━━━━━━━━━━━\u001b[0m \u001b[32m1.0/1.0 MB\u001b[0m \u001b[31m77.9 MB/s\u001b[0m eta \u001b[36m0:00:00\u001b[0m\n",
            "\u001b[?25hRequirement already satisfied: packaging in /usr/local/lib/python3.10/dist-packages (from datasets) (23.1)\n",
            "Requirement already satisfied: pyyaml>=5.1 in /usr/local/lib/python3.10/dist-packages (from datasets) (6.0)\n",
            "Requirement already satisfied: Click!=8.0.0,>=7.0 in /usr/local/lib/python3.10/dist-packages (from wandb) (8.1.3)\n",
            "Collecting GitPython!=3.1.29,>=1.0.0 (from wandb)\n",
            "  Downloading GitPython-3.1.31-py3-none-any.whl (184 kB)\n",
            "\u001b[2K     \u001b[90m━━━━━━━━━━━━━━━━━━━━━━━━━━━━━━━━━━━━━━\u001b[0m \u001b[32m184.3/184.3 kB\u001b[0m \u001b[31m24.8 MB/s\u001b[0m eta \u001b[36m0:00:00\u001b[0m\n",
            "\u001b[?25hRequirement already satisfied: psutil>=5.0.0 in /usr/local/lib/python3.10/dist-packages (from wandb) (5.9.5)\n",
            "Collecting sentry-sdk>=1.0.0 (from wandb)\n",
            "  Downloading sentry_sdk-1.25.1-py2.py3-none-any.whl (206 kB)\n",
            "\u001b[2K     \u001b[90m━━━━━━━━━━━━━━━━━━━━━━━━━━━━━━━━━━━━━━\u001b[0m \u001b[32m206.7/206.7 kB\u001b[0m \u001b[31m27.8 MB/s\u001b[0m eta \u001b[36m0:00:00\u001b[0m\n",
            "\u001b[?25hCollecting docker-pycreds>=0.4.0 (from wandb)\n",
            "  Downloading docker_pycreds-0.4.0-py2.py3-none-any.whl (9.0 kB)\n",
            "Collecting pathtools (from wandb)\n",
            "  Downloading pathtools-0.1.2.tar.gz (11 kB)\n",
            "  Preparing metadata (setup.py) ... \u001b[?25l\u001b[?25hdone\n",
            "Collecting setproctitle (from wandb)\n",
            "  Downloading setproctitle-1.3.2-cp310-cp310-manylinux_2_5_x86_64.manylinux1_x86_64.manylinux_2_17_x86_64.manylinux2014_x86_64.whl (30 kB)\n",
            "Requirement already satisfied: setuptools in /usr/local/lib/python3.10/dist-packages (from wandb) (67.7.2)\n",
            "Requirement already satisfied: appdirs>=1.4.3 in /usr/local/lib/python3.10/dist-packages (from wandb) (1.4.4)\n",
            "Requirement already satisfied: protobuf!=4.21.0,<5,>=3.19.0 in /usr/local/lib/python3.10/dist-packages (from wandb) (3.20.3)\n",
            "Requirement already satisfied: filelock in /usr/local/lib/python3.10/dist-packages (from huggingface-hub) (3.12.0)\n",
            "Requirement already satisfied: typing-extensions>=3.7.4.3 in /usr/local/lib/python3.10/dist-packages (from huggingface-hub) (4.5.0)\n",
            "Requirement already satisfied: six>=1.4.0 in /usr/local/lib/python3.10/dist-packages (from docker-pycreds>=0.4.0->wandb) (1.16.0)\n",
            "Requirement already satisfied: attrs>=17.3.0 in /usr/local/lib/python3.10/dist-packages (from aiohttp->datasets) (23.1.0)\n",
            "Requirement already satisfied: charset-normalizer<4.0,>=2.0 in /usr/local/lib/python3.10/dist-packages (from aiohttp->datasets) (2.0.12)\n",
            "Collecting multidict<7.0,>=4.5 (from aiohttp->datasets)\n",
            "  Downloading multidict-6.0.4-cp310-cp310-manylinux_2_17_x86_64.manylinux2014_x86_64.whl (114 kB)\n",
            "\u001b[2K     \u001b[90m━━━━━━━━━━━━━━━━━━━━━━━━━━━━━━━━━━━━━━━\u001b[0m \u001b[32m114.5/114.5 kB\u001b[0m \u001b[31m9.8 MB/s\u001b[0m eta \u001b[36m0:00:00\u001b[0m\n",
            "\u001b[?25hCollecting async-timeout<5.0,>=4.0.0a3 (from aiohttp->datasets)\n",
            "  Downloading async_timeout-4.0.2-py3-none-any.whl (5.8 kB)\n",
            "Collecting yarl<2.0,>=1.0 (from aiohttp->datasets)\n",
            "  Downloading yarl-1.9.2-cp310-cp310-manylinux_2_17_x86_64.manylinux2014_x86_64.whl (268 kB)\n",
            "\u001b[2K     \u001b[90m━━━━━━━━━━━━━━━━━━━━━━━━━━━━━━━━━━━━━━\u001b[0m \u001b[32m268.8/268.8 kB\u001b[0m \u001b[31m35.2 MB/s\u001b[0m eta \u001b[36m0:00:00\u001b[0m\n",
            "\u001b[?25hCollecting frozenlist>=1.1.1 (from aiohttp->datasets)\n",
            "  Downloading frozenlist-1.3.3-cp310-cp310-manylinux_2_5_x86_64.manylinux1_x86_64.manylinux_2_17_x86_64.manylinux2014_x86_64.whl (149 kB)\n",
            "\u001b[2K     \u001b[90m━━━━━━━━━━━━━━━━━━━━━━━━━━━━━━━━━━━━━━\u001b[0m \u001b[32m149.6/149.6 kB\u001b[0m \u001b[31m20.1 MB/s\u001b[0m eta \u001b[36m0:00:00\u001b[0m\n",
            "\u001b[?25hCollecting aiosignal>=1.1.2 (from aiohttp->datasets)\n",
            "  Downloading aiosignal-1.3.1-py3-none-any.whl (7.6 kB)\n",
            "Collecting gitdb<5,>=4.0.1 (from GitPython!=3.1.29,>=1.0.0->wandb)\n",
            "  Downloading gitdb-4.0.10-py3-none-any.whl (62 kB)\n",
            "\u001b[2K     \u001b[90m━━━━━━━━━━━━━━━━━━━━━━━━━━━━━━━━━━━━━━━━\u001b[0m \u001b[32m62.7/62.7 kB\u001b[0m \u001b[31m8.5 MB/s\u001b[0m eta \u001b[36m0:00:00\u001b[0m\n",
            "\u001b[?25hRequirement already satisfied: urllib3<1.27,>=1.21.1 in /usr/local/lib/python3.10/dist-packages (from requests>=2.19.0->datasets) (1.26.15)\n",
            "Requirement already satisfied: certifi>=2017.4.17 in /usr/local/lib/python3.10/dist-packages (from requests>=2.19.0->datasets) (2022.12.7)\n",
            "Requirement already satisfied: idna<4,>=2.5 in /usr/local/lib/python3.10/dist-packages (from requests>=2.19.0->datasets) (3.4)\n",
            "Collecting importlib-metadata (from diffusers->consistency==0.3.1)\n",
            "  Downloading importlib_metadata-6.7.0-py3-none-any.whl (22 kB)\n",
            "Requirement already satisfied: regex!=2019.12.17 in /usr/local/lib/python3.10/dist-packages (from diffusers->consistency==0.3.1) (2022.10.31)\n",
            "Requirement already satisfied: scipy>=1.0.1 in /usr/local/lib/python3.10/dist-packages (from lpips->consistency==0.3.1) (1.10.1)\n",
            "Requirement already satisfied: sympy in /usr/local/lib/python3.10/dist-packages (from torch->consistency==0.3.1) (1.11.1)\n",
            "Requirement already satisfied: networkx in /usr/local/lib/python3.10/dist-packages (from torch->consistency==0.3.1) (3.1)\n",
            "Requirement already satisfied: jinja2 in /usr/local/lib/python3.10/dist-packages (from torch->consistency==0.3.1) (3.1.2)\n",
            "Requirement already satisfied: triton==2.0.0 in /usr/local/lib/python3.10/dist-packages (from torch->consistency==0.3.1) (2.0.0)\n",
            "Requirement already satisfied: cmake in /usr/local/lib/python3.10/dist-packages (from triton==2.0.0->torch->consistency==0.3.1) (3.25.2)\n",
            "Requirement already satisfied: lit in /usr/local/lib/python3.10/dist-packages (from triton==2.0.0->torch->consistency==0.3.1) (16.0.5)\n",
            "Requirement already satisfied: python-dateutil>=2.8.1 in /usr/local/lib/python3.10/dist-packages (from pandas->datasets) (2.8.2)\n",
            "Requirement already satisfied: pytz>=2020.1 in /usr/local/lib/python3.10/dist-packages (from pandas->datasets) (2022.7.1)\n",
            "Collecting lightning-utilities>=0.7.0 (from pytorch-lightning->consistency==0.3.1)\n",
            "  Downloading lightning_utilities-0.8.0-py3-none-any.whl (20 kB)\n",
            "Collecting smmap<6,>=3.0.1 (from gitdb<5,>=4.0.1->GitPython!=3.1.29,>=1.0.0->wandb)\n",
            "  Downloading smmap-5.0.0-py3-none-any.whl (24 kB)\n",
            "Requirement already satisfied: zipp>=0.5 in /usr/local/lib/python3.10/dist-packages (from importlib-metadata->diffusers->consistency==0.3.1) (3.15.0)\n",
            "Requirement already satisfied: MarkupSafe>=2.0 in /usr/local/lib/python3.10/dist-packages (from jinja2->torch->consistency==0.3.1) (2.1.2)\n",
            "Requirement already satisfied: mpmath>=0.19 in /usr/local/lib/python3.10/dist-packages (from sympy->torch->consistency==0.3.1) (1.3.0)\n",
            "Building wheels for collected packages: pathtools\n",
            "  Building wheel for pathtools (setup.py) ... \u001b[?25l\u001b[?25hdone\n",
            "  Created wheel for pathtools: filename=pathtools-0.1.2-py3-none-any.whl size=8791 sha256=72f45af54d74602a304e669d0aeee5fe8b31dc152b8d6febc987a898d952b84c\n",
            "  Stored in directory: /root/.cache/pip/wheels/e7/f3/22/152153d6eb222ee7a56ff8617d80ee5207207a8c00a7aab794\n",
            "Successfully built pathtools\n",
            "Installing collected packages: pathtools, xxhash, smmap, setproctitle, sentry-sdk, multidict, lightning-utilities, importlib-metadata, frozenlist, docker-pycreds, dill, async-timeout, yarl, multiprocess, huggingface-hub, gitdb, aiosignal, GitPython, diffusers, aiohttp, wandb, datasets, torchmetrics, pytorch-lightning, lpips, consistency\n",
            "Successfully installed GitPython-3.1.31 aiohttp-3.8.4 aiosignal-1.3.1 async-timeout-4.0.2 consistency-0.3.1 datasets-2.13.0 diffusers-0.17.1 dill-0.3.6 docker-pycreds-0.4.0 frozenlist-1.3.3 gitdb-4.0.10 huggingface-hub-0.15.1 importlib-metadata-6.7.0 lightning-utilities-0.8.0 lpips-0.1.4 multidict-6.0.4 multiprocess-0.70.14 pathtools-0.1.2 pytorch-lightning-2.0.3 sentry-sdk-1.25.1 setproctitle-1.3.2 smmap-5.0.0 torchmetrics-0.11.4 wandb-0.15.4 xxhash-3.2.0 yarl-1.9.2\n"
          ]
        }
      ]
    },
    {
      "cell_type": "code",
      "source": [
        "!wandb login"
      ],
      "metadata": {
        "id": "ldzQ_-1DYrIv",
        "colab": {
          "base_uri": "https://localhost:8080/"
        },
        "outputId": "395c4336-66fc-4055-8ca2-64383639094e"
      },
      "execution_count": null,
      "outputs": [
        {
          "output_type": "stream",
          "name": "stdout",
          "text": [
            "\u001b[34m\u001b[1mwandb\u001b[0m: Logging into wandb.ai. (Learn how to deploy a W&B server locally: https://wandb.me/wandb-server)\n",
            "\u001b[34m\u001b[1mwandb\u001b[0m: You can find your API key in your browser here: https://wandb.ai/authorize\n",
            "\u001b[34m\u001b[1mwandb\u001b[0m: Paste an API key from your profile and hit enter, or press ctrl+c to quit: \n",
            "\u001b[34m\u001b[1mwandb\u001b[0m: Appending key for api.wandb.ai to your netrc file: /root/.netrc\n"
          ]
        }
      ]
    },
    {
      "cell_type": "code",
      "source": [
        "!git config --global credential.helper store\n",
        "!huggingface-cli login"
      ],
      "metadata": {
        "id": "_N6bZva0476C",
        "colab": {
          "base_uri": "https://localhost:8080/"
        },
        "outputId": "b2ae0e8b-796a-4f03-d9a6-04847ba9e12f"
      },
      "execution_count": null,
      "outputs": [
        {
          "output_type": "stream",
          "name": "stdout",
          "text": [
            "\n",
            "    _|    _|  _|    _|    _|_|_|    _|_|_|  _|_|_|  _|      _|    _|_|_|      _|_|_|_|    _|_|      _|_|_|  _|_|_|_|\n",
            "    _|    _|  _|    _|  _|        _|          _|    _|_|    _|  _|            _|        _|    _|  _|        _|\n",
            "    _|_|_|_|  _|    _|  _|  _|_|  _|  _|_|    _|    _|  _|  _|  _|  _|_|      _|_|_|    _|_|_|_|  _|        _|_|_|\n",
            "    _|    _|  _|    _|  _|    _|  _|    _|    _|    _|    _|_|  _|    _|      _|        _|    _|  _|        _|\n",
            "    _|    _|    _|_|      _|_|_|    _|_|_|  _|_|_|  _|      _|    _|_|_|      _|        _|    _|    _|_|_|  _|_|_|_|\n",
            "    \n",
            "    A token is already saved on your machine. Run `huggingface-cli whoami` to get more information or `huggingface-cli logout` if you want to log out.\n",
            "    Setting a new token will erase the existing one.\n",
            "    To login, `huggingface_hub` requires a token generated from https://huggingface.co/settings/tokens .\n",
            "Token: \n",
            "Add token as git credential? (Y/n) Y\n",
            "Token is valid (permission: write).\n",
            "Your token has been saved in your configured git credential helpers (store).\n",
            "Your token has been saved to /root/.cache/huggingface/token\n",
            "Login successful\n"
          ]
        }
      ]
    },
    {
      "cell_type": "code",
      "source": [
        "DATASET_NAME = \"cifar10\"\n",
        "DATASET2_NAME = \"mnist\"\n",
        "RESOLUTION = 32\n",
        "BATCH_SIZE = 128\n",
        "MAX_EPOCHS = 200\n",
        "LEARNING_RATE = 1e-4\n",
        "MODEL_ID = f\"cm-{DATASET_NAME}-{DATASET2_NAME}-{RESOLUTION}\"\n",
        "\n",
        "SAMPLES_PATH = \"./samples\"\n",
        "NUM_SAMPLES = 64\n",
        "SAMPLE_STEPS = 5  # Set this value larger if you want higher sample quality.\n",
        "\n",
        "DATA_PATH = './data'"
      ],
      "metadata": {
        "id": "CWeu8NA6WCni"
      },
      "execution_count": null,
      "outputs": []
    },
    {
      "cell_type": "code",
      "source": [
        "import torch\n",
        "\n",
        "from datasets import load_dataset\n",
        "from torch.utils.data import DataLoader\n",
        "from torchvision import transforms\n",
        "from torchvision import datasets\n",
        "from torch.utils.data import ConcatDataset\n"
      ],
      "metadata": {
        "id": "9kEigsV_kkDO"
      },
      "execution_count": null,
      "outputs": []
    },
    {
      "cell_type": "code",
      "source": [
        "tf_grayscale_data = transforms.Compose(\n",
        "        [\n",
        "            transforms.Resize((RESOLUTION,RESOLUTION)),\n",
        "            transforms.Grayscale(num_output_channels=3), #Convert to RGB\n",
        "            transforms.ToTensor(),\n",
        "            transforms.Normalize((0.5,0.5,0.5), (0.5,0.5,0.5)),\n",
        "        ]\n",
        "    )\n"
      ],
      "metadata": {
        "id": "_HgKLRg8kegx"
      },
      "execution_count": null,
      "outputs": []
    },
    {
      "cell_type": "code",
      "source": [
        "tf_rgb_data =  transforms.Compose(\n",
        "        [\n",
        "            transforms.Resize((RESOLUTION,RESOLUTION)),\n",
        "            transforms.ToTensor(),\n",
        "            transforms.Normalize((0.5,0.5,0.5), (0.5,0.5,0.5)),\n",
        "        ]\n",
        "    )\n"
      ],
      "metadata": {
        "id": "QSpKJJ5GkrOJ"
      },
      "execution_count": null,
      "outputs": []
    },
    {
      "cell_type": "code",
      "source": [
        "def create_concat_dataset(DATASET_NAME, DATASET2_NAME,DATA_PATH):\n",
        "    if DATASET_NAME == 'cifar10':\n",
        "        dataset1 =datasets.CIFAR10(\n",
        "        DATA_PATH,\n",
        "        train=True,\n",
        "        download=True,\n",
        "        transform=tf_rgb_data,\n",
        "    )\n",
        "\n",
        "    elif DATASET_NAME == 'mnist' :\n",
        "        dataset1 =datasets.MNIST(\n",
        "        DATA_PATH,\n",
        "        train=True,\n",
        "        download=True,\n",
        "        transform=tf_grayscale_data,\n",
        "    )\n",
        "\n",
        "    if DATASET2_NAME == 'cifar10':\n",
        "        dataset2 =datasets.CIFAR10(\n",
        "        DATA_PATH,\n",
        "        train=True,\n",
        "        download=True,\n",
        "        transform=tf_rgb_data,\n",
        "    )\n",
        "\n",
        "    elif DATASET2_NAME == 'mnist' :\n",
        "        dataset2 =datasets.MNIST(\n",
        "        DATA_PATH,\n",
        "        train=True,\n",
        "        download=True,\n",
        "        transform=tf_grayscale_data,\n",
        "    )\n",
        "\n",
        "    dataset = ConcatDataset([dataset1, dataset2])\n",
        "\n",
        "    dataset = torch.cat([dataset[i][0].unsqueeze(0) for i in range(len(dataset))])\n",
        "\n",
        "\n",
        "\n",
        "\n",
        "\n",
        "    dataloader = DataLoader(dataset, batch_size=BATCH_SIZE, shuffle=True, num_workers=0)\n",
        "\n",
        "    return dataloader\n",
        "\n",
        "\n",
        "\n",
        "\n"
      ],
      "metadata": {
        "id": "iX1y7ynKkv_z"
      },
      "execution_count": null,
      "outputs": []
    },
    {
      "cell_type": "code",
      "source": [
        "dataloader = create_concat_dataset(DATASET_NAME,DATASET2_NAME,DATA_PATH)"
      ],
      "metadata": {
        "colab": {
          "base_uri": "https://localhost:8080/"
        },
        "id": "WOuTKUsdkQzq",
        "outputId": "9e84410d-e3b5-4270-eea2-627a82924dc3"
      },
      "execution_count": null,
      "outputs": [
        {
          "output_type": "stream",
          "name": "stdout",
          "text": [
            "Files already downloaded and verified\n"
          ]
        }
      ]
    },
    {
      "cell_type": "code",
      "source": [
        "\"\"\"\n",
        "import torch\n",
        "\n",
        "from datasets import load_dataset\n",
        "from torch.utils.data import DataLoader\n",
        "from torchvision import transforms\n",
        "\n",
        "class Dataset(torch.utils.data.Dataset):\n",
        "    def __init__(self, dataset_name: str, dataset_config_name=None):\n",
        "        self.dataset = load_dataset(\n",
        "            dataset_name,\n",
        "            dataset_config_name,\n",
        "            split=\"train\",\n",
        "        )\n",
        "        self.image_key = [\n",
        "            key for key in (\"image\", \"img\") if key in self.dataset[0]\n",
        "        ][0]\n",
        "        self.augmentations = transforms.Compose(\n",
        "    [\n",
        "        transforms.Resize(\n",
        "            RESOLUTION,\n",
        "            interpolation=transforms.InterpolationMode.BILINEAR,\n",
        "        ),\n",
        "        transforms.CenterCrop(RESOLUTION),\n",
        "        transforms.RandomHorizontalFlip(),\n",
        "        transforms.ToTensor(),\n",
        "        transforms.Normalize([0.5], [0.5]),\n",
        "    ]\n",
        ")\n",
        "\n",
        "    def __len__(self):\n",
        "        return len(self.dataset)\n",
        "\n",
        "    def __getitem__(self, index: int) -> torch.Tensor:\n",
        "        return self.augmentations(self.dataset[index][self.image_key].convert(\"RGB\"))\n",
        "\n",
        "dataloader = DataLoader(\n",
        "    Dataset(DATASET_NAME),\n",
        "    batch_size=BATCH_SIZE,\n",
        "    shuffle=True,\n",
        "    num_workers=4,\n",
        ")\n",
        "\n",
        "\"\"\""
      ],
      "metadata": {
        "id": "J_dZ-sFIVv7k"
      },
      "execution_count": null,
      "outputs": []
    },
    {
      "cell_type": "markdown",
      "source": [
        "### Define Models\n",
        "\n",
        "`Consistency` accepts any unet-like model as its backbone.\n",
        "We recommend `UNet2DModel` of `diffusers` 🤗 as a default option."
      ],
      "metadata": {
        "id": "4S6bE5ANaaur"
      }
    },
    {
      "cell_type": "code",
      "source": [
        "from diffusers import UNet2DModel\n",
        "from consistency import Consistency\n",
        "from consistency.loss import PerceptualLoss\n",
        "\n",
        "consistency = Consistency(\n",
        "    model=UNet2DModel(\n",
        "        sample_size=RESOLUTION,\n",
        "        in_channels=3,\n",
        "        out_channels=3,\n",
        "        layers_per_block=1,\n",
        "        block_out_channels=(128, 128, 256, 256),\n",
        "        down_block_types=(\n",
        "            \"DownBlock2D\",\n",
        "            \"AttnDownBlock2D\",\n",
        "            \"DownBlock2D\",\n",
        "            \"DownBlock2D\"\n",
        "        ),\n",
        "        up_block_types=(\n",
        "            \"UpBlock2D\",\n",
        "            \"UpBlock2D\",\n",
        "            \"AttnUpBlock2D\",\n",
        "            \"UpBlock2D\",\n",
        "        ),\n",
        "    ),\n",
        "    # You could use multiple net types.\n",
        "    # Recommended setting is \"squeeze\" + \"vgg\"\n",
        "    # loss_fn=PerceptualLoss(net_type=(\"squeeze\", \"vgg\"))\n",
        "    # See https://github.com/richzhang/PerceptualSimilarity\n",
        "    loss_fn=PerceptualLoss(net_type=\"squeeze\"),\n",
        "    learning_rate=LEARNING_RATE,\n",
        "    samples_path=SAMPLES_PATH,\n",
        "    save_samples_every_n_epoch=1,\n",
        "    num_samples=NUM_SAMPLES,\n",
        "    sample_steps=SAMPLE_STEPS,\n",
        "    use_ema=True,\n",
        "    sample_seed=42,\n",
        "    model_id=MODEL_ID,\n",
        ")"
      ],
      "metadata": {
        "id": "Hyr1B37TWPup",
        "colab": {
          "base_uri": "https://localhost:8080/"
        },
        "outputId": "805f5b6c-c231-4ff9-dc28-67e0376e6ec7"
      },
      "execution_count": null,
      "outputs": [
        {
          "output_type": "stream",
          "name": "stderr",
          "text": [
            "/usr/local/lib/python3.10/dist-packages/torchvision/models/_utils.py:208: UserWarning: The parameter 'pretrained' is deprecated since 0.13 and may be removed in the future, please use 'weights' instead.\n",
            "  warnings.warn(\n",
            "/usr/local/lib/python3.10/dist-packages/torchvision/models/_utils.py:223: UserWarning: Arguments other than a weight enum or `None` for 'weights' are deprecated since 0.13 and may be removed in the future. The current behavior is equivalent to passing `weights=SqueezeNet1_1_Weights.IMAGENET1K_V1`. You can also use `weights=SqueezeNet1_1_Weights.DEFAULT` to get the most up-to-date weights.\n",
            "  warnings.warn(msg)\n",
            "Downloading: \"https://download.pytorch.org/models/squeezenet1_1-b8a52dc0.pth\" to /root/.cache/torch/hub/checkpoints/squeezenet1_1-b8a52dc0.pth\n",
            "100%|██████████| 4.73M/4.73M [00:00<00:00, 74.0MB/s]\n",
            "/usr/local/lib/python3.10/dist-packages/consistency/consistency.py:57: FutureWarning: Accessing config attribute `in_channels` directly via 'UNet2DModel' object attribute is deprecated. Please access 'in_channels' over 'UNet2DModel's config object instead, e.g. 'unet.config.in_channels'.\n",
            "  self.channels = model.in_channels\n"
          ]
        }
      ]
    },
    {
      "cell_type": "code",
      "source": [
        "import torch"
      ],
      "metadata": {
        "id": "mP_KiLQ-Fstg"
      },
      "execution_count": null,
      "outputs": []
    },
    {
      "cell_type": "code",
      "source": [
        "def get_activation_value(cmodel,input,timestep):\n",
        "  \"\"\"\n",
        "  Custom function to get bottleneck activations from Hugging Face UNet 2D Bottleneck. Timestep value is\n",
        "  a long tensor of size (BS,). Adjust as per the diffusion schedule which is Karras as per the paper.\n", 
        "cmodel is a model inside a Consistency Wrapper.\n",
        "\n",
        "  \"\"\"\n",
        "  activation = {}\n",
        "  name = 'bottleneck'\n",
        "  def getActivation(name):\n",
        "    # the hook signature\n",
        "    def hook(model, input, output):\n",
        "        activation[name] = output.detach()\n",
        "    return hook\n",
        "  h = cmodel.model.mid_block.register_forward_hook(getActivation(name))\n",
        "  _ = cmodel(input,timestep)\n",
        "  h.remove()\n",
        "  return activation['bottleneck']\n"
      ],
      "metadata": {
        "id": "TYT3fwymFLa8"
      },
      "execution_count": null,
      "outputs": []
    },
    {
      "cell_type": "markdown",
      "source": [
        "### Training\n",
        "\n",
        "You can see the generated images in `SAMPLES_PATH` or in **Wandb Workspace** as the training progresses."
      ],
      "metadata": {
        "id": "FRb1byQiZ7Ne"
      }
    },
    {
      "cell_type": "code",
      "source": [
        "from pytorch_lightning import Trainer\n",
        "from pytorch_lightning.callbacks import ModelCheckpoint\n",
        "from pytorch_lightning.loggers.wandb import WandbLogger\n",
        "\n",
        "trainer = Trainer(\n",
        "    accelerator=\"auto\",\n",
        "    logger=WandbLogger(project=\"consistency\", log_model=True),\n",
        "    callbacks=[\n",
        "        ModelCheckpoint(\n",
        "            dirpath=\"ckpt\",\n",
        "            save_top_k=3,\n",
        "            monitor=\"loss\",\n",
        "        )\n",
        "    ],\n",
        "    max_epochs=MAX_EPOCHS,\n",
        "    precision=16 if torch.cuda.is_available() else 32,\n",
        "    log_every_n_steps=30,\n",
        "    gradient_clip_algorithm=\"norm\",\n",
        "    gradient_clip_val=1.0,\n",
        ")\n",
        "\n",
        "trainer.fit(consistency, dataloader)"
      ],
      "metadata": {
        "id": "cpvh1C_BXO63",
        "colab": {
          "base_uri": "https://localhost:8080/",
          "height": 1000,
          "referenced_widgets": [
            "919bf6784c6e4545bf60cf56c0d83329",
            "26b34a8ac9444c16b2128ffb559ed9d2",
            "993db08796c54ca6991e49e94d877c60",
            "6db1bef9ffa549fbab53ce5db9db87db",
            "27914cdfc5b64a0fa345e14a069b5b85",
            "06b14b605ace4ef5833a72475705ce8b",
            "1cf7da41c13e4fde889801f2453cb47c",
            "131cf1ada2a546bba4d046b50f953c83",
            "4195d3c1109e4c0b99853e044a3ccb9e",
            "6eee00b5fa634e0399126660ffcdc5c9",
            "3ad678a87383450e9bfb2ded5187e91c"
          ]
        },
        "outputId": "ec35420f-471a-4bdf-a3ba-094e5c5a1ac0"
      },
      "execution_count": null,
      "outputs": [
        {
          "output_type": "stream",
          "name": "stderr",
          "text": [
            "/usr/local/lib/python3.10/dist-packages/pytorch_lightning/loggers/wandb.py:396: UserWarning: There is a wandb run already in progress and newly created instances of `WandbLogger` will reuse this run. If this is not desired, call `wandb.finish()` before instantiating `WandbLogger`.\n",
            "  rank_zero_warn(\n",
            "/usr/local/lib/python3.10/dist-packages/lightning_fabric/connector.py:555: UserWarning: 16 is supported for historical reasons but its usage is discouraged. Please set your precision to 16-mixed instead!\n",
            "  rank_zero_warn(\n",
            "INFO:pytorch_lightning.utilities.rank_zero:Using 16bit Automatic Mixed Precision (AMP)\n",
            "INFO:pytorch_lightning.utilities.rank_zero:GPU available: True (cuda), used: True\n",
            "INFO:pytorch_lightning.utilities.rank_zero:TPU available: False, using: 0 TPU cores\n",
            "INFO:pytorch_lightning.utilities.rank_zero:IPU available: False, using: 0 IPUs\n",
            "INFO:pytorch_lightning.utilities.rank_zero:HPU available: False, using: 0 HPUs\n",
            "/content/cm-cifar10-mnist-32 is already a clone of https://huggingface.co/rsn243/cm-cifar10-mnist-32. Make sure you pull the latest changes with `repo.git_pull()`.\n",
            "WARNING:huggingface_hub.repository:/content/cm-cifar10-mnist-32 is already a clone of https://huggingface.co/rsn243/cm-cifar10-mnist-32. Make sure you pull the latest changes with `repo.git_pull()`.\n",
            "INFO:pytorch_lightning.accelerators.cuda:LOCAL_RANK: 0 - CUDA_VISIBLE_DEVICES: [0]\n",
            "INFO:pytorch_lightning.callbacks.model_summary:\n",
            "  | Name               | Type           | Params\n",
            "------------------------------------------------------\n",
            "0 | model              | UNet2DModel    | 18.9 M\n",
            "1 | model_ema          | UNet2DModel    | 18.9 M\n",
            "2 | loss_fn            | PerceptualLoss | 724 K \n",
            "3 | _loss_tracker      | MeanMetric     | 0     \n",
            "4 | _bins_tracker      | MeanMetric     | 0     \n",
            "5 | _ema_decay_tracker | MeanMetric     | 0     \n",
            "------------------------------------------------------\n",
            "18.9 M    Trainable params\n",
            "19.6 M    Non-trainable params\n",
            "38.5 M    Total params\n",
            "153.802   Total estimated model params size (MB)\n"
          ]
        },
        {
          "output_type": "display_data",
          "data": {
            "text/plain": [
              "Training: 0it [00:00, ?it/s]"
            ],
            "application/vnd.jupyter.widget-view+json": {
              "version_major": 2,
              "version_minor": 0,
              "model_id": "919bf6784c6e4545bf60cf56c0d83329"
            }
          },
          "metadata": {}
        },
        {
          "output_type": "stream",
          "name": "stderr",
          "text": [
            "Several commits (2) will be pushed upstream.\n",
            "WARNING:huggingface_hub.repository:Several commits (2) will be pushed upstream.\n",
            "Several commits (3) will be pushed upstream.\n",
            "WARNING:huggingface_hub.repository:Several commits (3) will be pushed upstream.\n",
            "Several commits (4) will be pushed upstream.\n",
            "WARNING:huggingface_hub.repository:Several commits (4) will be pushed upstream.\n",
            "Several commits (5) will be pushed upstream.\n",
            "WARNING:huggingface_hub.repository:Several commits (5) will be pushed upstream.\n",
            "Several commits (6) will be pushed upstream.\n",
            "WARNING:huggingface_hub.repository:Several commits (6) will be pushed upstream.\n",
            "Several commits (7) will be pushed upstream.\n",
            "WARNING:huggingface_hub.repository:Several commits (7) will be pushed upstream.\n",
            "Several commits (8) will be pushed upstream.\n",
            "WARNING:huggingface_hub.repository:Several commits (8) will be pushed upstream.\n",
            "Several commits (9) will be pushed upstream.\n",
            "WARNING:huggingface_hub.repository:Several commits (9) will be pushed upstream.\n",
            "Several commits (10) will be pushed upstream.\n",
            "WARNING:huggingface_hub.repository:Several commits (10) will be pushed upstream.\n",
            "Several commits (11) will be pushed upstream.\n",
            "WARNING:huggingface_hub.repository:Several commits (11) will be pushed upstream.\n",
            "Several commits (12) will be pushed upstream.\n",
            "WARNING:huggingface_hub.repository:Several commits (12) will be pushed upstream.\n",
            "Several commits (13) will be pushed upstream.\n",
            "WARNING:huggingface_hub.repository:Several commits (13) will be pushed upstream.\n",
            "Several commits (14) will be pushed upstream.\n",
            "WARNING:huggingface_hub.repository:Several commits (14) will be pushed upstream.\n",
            "Several commits (15) will be pushed upstream.\n",
            "WARNING:huggingface_hub.repository:Several commits (15) will be pushed upstream.\n",
            "Several commits (16) will be pushed upstream.\n",
            "WARNING:huggingface_hub.repository:Several commits (16) will be pushed upstream.\n",
            "Several commits (17) will be pushed upstream.\n",
            "WARNING:huggingface_hub.repository:Several commits (17) will be pushed upstream.\n",
            "Several commits (18) will be pushed upstream.\n",
            "WARNING:huggingface_hub.repository:Several commits (18) will be pushed upstream.\n",
            "Several commits (19) will be pushed upstream.\n",
            "WARNING:huggingface_hub.repository:Several commits (19) will be pushed upstream.\n",
            "Several commits (20) will be pushed upstream.\n",
            "WARNING:huggingface_hub.repository:Several commits (20) will be pushed upstream.\n",
            "Several commits (21) will be pushed upstream.\n",
            "WARNING:huggingface_hub.repository:Several commits (21) will be pushed upstream.\n",
            "Several commits (22) will be pushed upstream.\n",
            "WARNING:huggingface_hub.repository:Several commits (22) will be pushed upstream.\n",
            "Several commits (23) will be pushed upstream.\n",
            "WARNING:huggingface_hub.repository:Several commits (23) will be pushed upstream.\n",
            "Several commits (24) will be pushed upstream.\n",
            "WARNING:huggingface_hub.repository:Several commits (24) will be pushed upstream.\n",
            "Several commits (25) will be pushed upstream.\n",
            "WARNING:huggingface_hub.repository:Several commits (25) will be pushed upstream.\n",
            "Several commits (26) will be pushed upstream.\n",
            "WARNING:huggingface_hub.repository:Several commits (26) will be pushed upstream.\n",
            "Several commits (27) will be pushed upstream.\n",
            "WARNING:huggingface_hub.repository:Several commits (27) will be pushed upstream.\n",
            "Several commits (28) will be pushed upstream.\n",
            "WARNING:huggingface_hub.repository:Several commits (28) will be pushed upstream.\n",
            "Several commits (29) will be pushed upstream.\n",
            "WARNING:huggingface_hub.repository:Several commits (29) will be pushed upstream.\n",
            "Several commits (30) will be pushed upstream.\n",
            "WARNING:huggingface_hub.repository:Several commits (30) will be pushed upstream.\n",
            "Several commits (31) will be pushed upstream.\n",
            "WARNING:huggingface_hub.repository:Several commits (31) will be pushed upstream.\n",
            "Several commits (32) will be pushed upstream.\n",
            "WARNING:huggingface_hub.repository:Several commits (32) will be pushed upstream.\n",
            "Several commits (33) will be pushed upstream.\n",
            "WARNING:huggingface_hub.repository:Several commits (33) will be pushed upstream.\n",
            "Several commits (34) will be pushed upstream.\n",
            "WARNING:huggingface_hub.repository:Several commits (34) will be pushed upstream.\n"
          ]
        }
      ]
    },
    {
      "cell_type": "markdown",
      "source": [
        "### Generate samples\n",
        "\n",
        "You can now `sample` high quality images! 🎉"
      ],
      "metadata": {
        "id": "37CcQylFcZYe"
      }
    },
    {
      "cell_type": "code",
      "source": [
        "consistency.sample(64, sample_steps=20)"
      ],
      "metadata": {
        "id": "KpJy-UhOYvsk"
      },
      "execution_count": null,
      "outputs": []
    }
  ]
}
